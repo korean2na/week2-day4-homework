{
 "cells": [
  {
   "cell_type": "markdown",
   "metadata": {},
   "source": [
    "# Object-Oriented-Programming (OOP)"
   ]
  },
  {
   "cell_type": "markdown",
   "metadata": {},
   "source": [
    "## Tasks Today:\n",
    "\n",
    "   \n",
    "\n",
    "1) <b>Creating a Class (Initializing/Declaring)</b> <br>\n",
    "2) <b>Using a Class (Instantiating)</b> <br>\n",
    " &nbsp;&nbsp;&nbsp;&nbsp; a) Creating One Instance <br>\n",
    " &nbsp;&nbsp;&nbsp;&nbsp; b) Creating Multiple Instances <br>\n",
    " &nbsp;&nbsp;&nbsp;&nbsp; c) In-Class Exercise #1 - Create a Class 'Car' and instantiate three different makes of cars <br>\n",
    "3) <b>The \\__init\\__() Method</b> <br>\n",
    " &nbsp;&nbsp;&nbsp;&nbsp; a) The 'self' Attribute <br>\n",
    "4) <b>Class Attributes</b> <br>\n",
    " &nbsp;&nbsp;&nbsp;&nbsp; a) Initializing Attributes <br>\n",
    " &nbsp;&nbsp;&nbsp;&nbsp; b) Setting an Attribute Outside of the \\__init\\__() Method <br>\n",
    " &nbsp;&nbsp;&nbsp;&nbsp; c) Setting Defaults for Attributes <br>\n",
    " &nbsp;&nbsp;&nbsp;&nbsp; d) Accessing Class Attributes <br>\n",
    " &nbsp;&nbsp;&nbsp;&nbsp; e) Changing Class Attributes <br>\n",
    " &nbsp;&nbsp;&nbsp;&nbsp; f) In-Class Exercise #2 - Add a color and wheels attribute to your 'Car' class <br>\n",
    "5) <b>Class Methods</b> <br>\n",
    " &nbsp;&nbsp;&nbsp;&nbsp; a) Creating <br>\n",
    " &nbsp;&nbsp;&nbsp;&nbsp; b) Calling <br>\n",
    " &nbsp;&nbsp;&nbsp;&nbsp; c) Modifying an Attribute's Value Through a Method <br>\n",
    " &nbsp;&nbsp;&nbsp;&nbsp; d) Incrementing an Attribute's Value Through a Method <br>\n",
    " &nbsp;&nbsp;&nbsp;&nbsp; e) In-Class Exercise #3 - Add a method that prints the cars color and wheel number, then call them <br>\n",
    "6) <b>Inheritance</b> <br>\n",
    " &nbsp;&nbsp;&nbsp;&nbsp; a) Syntax for Inheriting from a Parent Class <br>\n",
    " &nbsp;&nbsp;&nbsp;&nbsp; b) The \\__init\\__() Method for a Child Class (super()) <br>\n",
    " &nbsp;&nbsp;&nbsp;&nbsp; c) Defining Attributes and Methods for the Child Class <br>\n",
    " &nbsp;&nbsp;&nbsp;&nbsp; d) Method Overriding <br>\n",
    " &nbsp;&nbsp;&nbsp;&nbsp; e) In-Class Exercise #4 - Create a class 'Ford' that inherits from 'Car' class and initialize it as a Blue Ford Explorer with 4 wheels using the super() method <br>\n",
    "7) <b>Classes as Attributes</b> <br>\n",
    "8) <b>Exercises</b> <br>\n",
    " &nbsp;&nbsp;&nbsp;&nbsp; a) Exercise #1 - Turn the shopping cart program from yesterday into an object-oriented program <br>"
   ]
  },
  {
   "cell_type": "markdown",
   "metadata": {},
   "source": [
    "## Creating a Class (Initializing/Declaring)\n",
    "<p>When creating a class, function, or even a variable you are initializing that object. Initializing and Declaring occur at the same time in Python, whereas in lower level languages you have to declare an object before initializing it. This is the first step in the process of using a class.</p>"
   ]
  },
  {
   "cell_type": "code",
   "execution_count": 1,
   "metadata": {},
   "outputs": [],
   "source": [
    "class Car():\n",
    "    wheels = 4\n",
    "    color = 'blue'\n",
    "    make = 'Honda'\n",
    "    model = 'CRV'"
   ]
  },
  {
   "cell_type": "code",
   "execution_count": 3,
   "metadata": {},
   "outputs": [],
   "source": [
    "my_car = Car() # Creating a new car"
   ]
  },
  {
   "cell_type": "code",
   "execution_count": 4,
   "metadata": {},
   "outputs": [
    {
     "data": {
      "text/plain": [
       "4"
      ]
     },
     "execution_count": 4,
     "metadata": {},
     "output_type": "execute_result"
    }
   ],
   "source": [
    "my_car.wheels"
   ]
  },
  {
   "cell_type": "code",
   "execution_count": 5,
   "metadata": {},
   "outputs": [
    {
     "data": {
      "text/plain": [
       "'blue'"
      ]
     },
     "execution_count": 5,
     "metadata": {},
     "output_type": "execute_result"
    }
   ],
   "source": [
    "my_car.color"
   ]
  },
  {
   "cell_type": "code",
   "execution_count": 6,
   "metadata": {},
   "outputs": [],
   "source": [
    "dylans_car = Car()"
   ]
  },
  {
   "cell_type": "code",
   "execution_count": 7,
   "metadata": {},
   "outputs": [
    {
     "data": {
      "text/plain": [
       "'green'"
      ]
     },
     "execution_count": 7,
     "metadata": {},
     "output_type": "execute_result"
    }
   ],
   "source": [
    "dylans_car.color = 'green'\n",
    "dylans_car.color"
   ]
  },
  {
   "cell_type": "code",
   "execution_count": 8,
   "metadata": {},
   "outputs": [
    {
     "data": {
      "text/plain": [
       "__main__.Car"
      ]
     },
     "execution_count": 8,
     "metadata": {},
     "output_type": "execute_result"
    }
   ],
   "source": [
    "type(dylans_car)"
   ]
  },
  {
   "cell_type": "markdown",
   "metadata": {},
   "source": [
    "## Using a Class (Instantiating)\n",
    "<p>The process of creating a class is called <i>Instantiating</i>. Each time you create a variable of that type of class, it is referred to as an <i>Instance</i> of that class. This is the second step in the process of using a class.</p>"
   ]
  },
  {
   "cell_type": "markdown",
   "metadata": {},
   "source": [
    "##### Creating One Instance"
   ]
  },
  {
   "cell_type": "code",
   "execution_count": 9,
   "metadata": {},
   "outputs": [],
   "source": [
    "ford = Car()"
   ]
  },
  {
   "cell_type": "markdown",
   "metadata": {},
   "source": [
    "##### Creating Multiple Instances"
   ]
  },
  {
   "cell_type": "code",
   "execution_count": null,
   "metadata": {},
   "outputs": [],
   "source": [
    "ford = Car()\n",
    "toyota = Car()\n",
    "honda = Car()"
   ]
  },
  {
   "cell_type": "markdown",
   "metadata": {},
   "source": [
    "##### In-Class Exercise #1 - Create a Class 'Person' and Instantiate three different people"
   ]
  },
  {
   "cell_type": "code",
   "execution_count": 10,
   "metadata": {},
   "outputs": [],
   "source": [
    "class Person():\n",
    "    def __init__(self, name, eye_color, hair_color, age, fingers=10):\n",
    "        self.name = name\n",
    "        self.eye_color = eye_color\n",
    "        self.hair_color = hair_color\n",
    "        self.age = age\n",
    "        self.fingers = fingers"
   ]
  },
  {
   "cell_type": "code",
   "execution_count": 12,
   "metadata": {},
   "outputs": [],
   "source": [
    "gabe = Person('Gabe', 'Blue', 'Brown', 37, 9)\n",
    "sarah = Person('Sarah', 'Green', 'Blonde', 42)\n",
    "jimmy = Person('Jimmy', 'Brown', 'Black', 17)"
   ]
  },
  {
   "cell_type": "code",
   "execution_count": 14,
   "metadata": {},
   "outputs": [
    {
     "data": {
      "text/plain": [
       "9"
      ]
     },
     "execution_count": 14,
     "metadata": {},
     "output_type": "execute_result"
    }
   ],
   "source": [
    "gabe.fingers"
   ]
  },
  {
   "cell_type": "markdown",
   "metadata": {},
   "source": [
    "## The \\__init\\__() Method <br>\n",
    "<p>This method is used in almost every created class, and called only once upon the creation of the class instance. This method will initialize all variables needed for the object.</p>"
   ]
  },
  {
   "cell_type": "code",
   "execution_count": 15,
   "metadata": {},
   "outputs": [],
   "source": [
    "class Car():\n",
    "    def __init__(self, make, model, color, wheels=4):\n",
    "        self.make = make\n",
    "        self.model = model\n",
    "        self.color = color\n",
    "        self.wheels = wheels"
   ]
  },
  {
   "cell_type": "code",
   "execution_count": 16,
   "metadata": {},
   "outputs": [],
   "source": [
    "crv = Car('Honda', 'CRV', 'Blue')\n",
    "tlx = Car('Acura', 'TLX', 'Green')\n",
    "accord = Car('Honda', 'Accord', 'Black')"
   ]
  },
  {
   "cell_type": "code",
   "execution_count": 17,
   "metadata": {},
   "outputs": [],
   "source": [
    "crv.make = 'Toyota'"
   ]
  },
  {
   "cell_type": "code",
   "execution_count": 18,
   "metadata": {},
   "outputs": [
    {
     "data": {
      "text/plain": [
       "'Toyota'"
      ]
     },
     "execution_count": 18,
     "metadata": {},
     "output_type": "execute_result"
    }
   ],
   "source": [
    "crv.make"
   ]
  },
  {
   "cell_type": "markdown",
   "metadata": {},
   "source": [
    "# Create a class with at least 4 attributes (but can be more) for your favorite animal\n",
    "\n",
    "# Create at least 2 instances of the class"
   ]
  },
  {
   "cell_type": "code",
   "execution_count": 21,
   "metadata": {},
   "outputs": [],
   "source": [
    "class Cat():\n",
    "    def __init__(self, name, breed, color, legs=4):\n",
    "        self.name = name \n",
    "        self.breed = breed\n",
    "        self.color = color\n",
    "        self.legs = legs"
   ]
  },
  {
   "cell_type": "code",
   "execution_count": 24,
   "metadata": {},
   "outputs": [],
   "source": [
    "miss_marvin = Cat('Miss Marvin', 'Domestic Mediumhair', 'Black + White')\n",
    "duck = Cat('Duck', 'Domestic Mediumhair', 'Gray + White', 2)\n",
    "tig = Cat('Tig', 'British shorthair', 'Orange')"
   ]
  },
  {
   "cell_type": "code",
   "execution_count": 25,
   "metadata": {},
   "outputs": [
    {
     "data": {
      "text/plain": [
       "2"
      ]
     },
     "execution_count": 25,
     "metadata": {},
     "output_type": "execute_result"
    }
   ],
   "source": [
    "duck.legs"
   ]
  },
  {
   "cell_type": "code",
   "execution_count": 26,
   "metadata": {},
   "outputs": [
    {
     "data": {
      "text/plain": [
       "'Black + White'"
      ]
     },
     "execution_count": 26,
     "metadata": {},
     "output_type": "execute_result"
    }
   ],
   "source": [
    "miss_marvin.color"
   ]
  },
  {
   "cell_type": "markdown",
   "metadata": {},
   "source": [
    "##### The 'self' Attribute <br>\n",
    "<p>This attribute is required to keep track of specific instance's attributes. Without the self attribute, the program would not know how to reference or keep track of an instance's attributes.</p>"
   ]
  },
  {
   "cell_type": "code",
   "execution_count": null,
   "metadata": {},
   "outputs": [],
   "source": [
    "# see above"
   ]
  },
  {
   "cell_type": "markdown",
   "metadata": {},
   "source": [
    "## Class Attributes <br>\n",
    "<p>While variables are inside of a class, they are referred to as attributes and not variables. When someone says 'attribute' you know they're speaking about a class. Attributes can be initialized through the init method, or outside of it.</p>"
   ]
  },
  {
   "cell_type": "markdown",
   "metadata": {},
   "source": [
    "##### Initializing Attributes"
   ]
  },
  {
   "cell_type": "code",
   "execution_count": null,
   "metadata": {},
   "outputs": [],
   "source": [
    "# see above"
   ]
  },
  {
   "cell_type": "markdown",
   "metadata": {},
   "source": [
    "##### Accessing Class Attributes"
   ]
  },
  {
   "cell_type": "code",
   "execution_count": null,
   "metadata": {
    "scrolled": true
   },
   "outputs": [],
   "source": [
    "# See Above"
   ]
  },
  {
   "cell_type": "markdown",
   "metadata": {},
   "source": [
    "##### Setting Defaults for Attributes"
   ]
  },
  {
   "cell_type": "code",
   "execution_count": null,
   "metadata": {},
   "outputs": [],
   "source": []
  },
  {
   "cell_type": "markdown",
   "metadata": {},
   "source": [
    "##### Changing Class Attributes <br>\n",
    "<p>Keep in mind there are global class attributes and then there are attributes only available to each class instance which won't effect other classes.</p>"
   ]
  },
  {
   "cell_type": "code",
   "execution_count": null,
   "metadata": {},
   "outputs": [],
   "source": [
    "class Person():\n",
    "    _list = []\n",
    "    \n",
    "    def __init__(self, name, eye_color, hair_color, age, fingers=10):\n",
    "        self.name = name\n",
    "        self.eye_color = eye_color\n",
    "        self.hair_color = hair_color\n",
    "        self.age = age\n",
    "        self.fingers = fingers\n",
    "        \n",
    "        self.\n",
    "        \n",
    "gabe = Person('Gabe', 'Blue', 'Brown', 37, 9)\n",
    "sarah = Person('Sarah', 'Green', 'Blonde', 42)\n",
    "jimmy = Person('Jimmy', 'Brown', 'Black', 17)"
   ]
  },
  {
   "cell_type": "code",
   "execution_count": null,
   "metadata": {},
   "outputs": [],
   "source": []
  },
  {
   "cell_type": "markdown",
   "metadata": {},
   "source": [
    "##### In-Class Exercise #2 - Add a doors and seats attribute to your 'Car' class then print out two different instances with different doors and seats"
   ]
  },
  {
   "cell_type": "code",
   "execution_count": 34,
   "metadata": {},
   "outputs": [],
   "source": [
    "class Car():\n",
    "    def __init__(self, make, model, color, wheels=4, doors=4, seats=4):\n",
    "        self.make = make\n",
    "        self.model = model\n",
    "        self.color = color\n",
    "        self.wheels = wheels\n",
    "        self.doors = doors\n",
    "        self.seats = seats\n",
    "\n",
    "car1 = Car('Honda', 'Civic', 'Red', doors=2)\n",
    "car2 = Car('Reliant', 'Robin', 'Blue', 3, 2)"
   ]
  },
  {
   "cell_type": "code",
   "execution_count": 37,
   "metadata": {},
   "outputs": [
    {
     "data": {
      "text/plain": [
       "4"
      ]
     },
     "execution_count": 37,
     "metadata": {},
     "output_type": "execute_result"
    }
   ],
   "source": [
    "car1.wheels"
   ]
  },
  {
   "cell_type": "code",
   "execution_count": 38,
   "metadata": {},
   "outputs": [
    {
     "data": {
      "text/plain": [
       "2"
      ]
     },
     "execution_count": 38,
     "metadata": {},
     "output_type": "execute_result"
    }
   ],
   "source": [
    "car1.doors"
   ]
  },
  {
   "cell_type": "code",
   "execution_count": 39,
   "metadata": {},
   "outputs": [
    {
     "data": {
      "text/plain": [
       "3"
      ]
     },
     "execution_count": 39,
     "metadata": {},
     "output_type": "execute_result"
    }
   ],
   "source": [
    "car2.wheels"
   ]
  },
  {
   "cell_type": "code",
   "execution_count": 40,
   "metadata": {},
   "outputs": [
    {
     "data": {
      "text/plain": [
       "2"
      ]
     },
     "execution_count": 40,
     "metadata": {},
     "output_type": "execute_result"
    }
   ],
   "source": [
    "car2.doors"
   ]
  },
  {
   "cell_type": "code",
   "execution_count": 43,
   "metadata": {},
   "outputs": [
    {
     "name": "stdout",
     "output_type": "stream",
     "text": [
      "Your Red Honda Civic has 2 doors and 4 wheels.\n"
     ]
    }
   ],
   "source": [
    "print(f'Your {car1.color} {car1.make} {car1.model} has {car1.doors} doors and {car1.wheels} wheels.')"
   ]
  },
  {
   "cell_type": "code",
   "execution_count": 44,
   "metadata": {},
   "outputs": [
    {
     "name": "stdout",
     "output_type": "stream",
     "text": [
      "Your Blue Reliant Robin has 2 doors and 3 wheels.\n"
     ]
    }
   ],
   "source": [
    "print(f'Your {car2.color} {car2.make} {car2.model} has {car2.doors} doors and {car2.wheels} wheels.')"
   ]
  },
  {
   "cell_type": "markdown",
   "metadata": {},
   "source": [
    "## Class Methods <br>\n",
    "<p>While inside of a class, functions are referred to as 'methods'. If you hear someone mention methods, they're speaking about classes. Methods are essentially functions, but only callable on the instances of a class.</p>"
   ]
  },
  {
   "cell_type": "markdown",
   "metadata": {},
   "source": [
    "##### Creating"
   ]
  },
  {
   "cell_type": "code",
   "execution_count": 66,
   "metadata": {},
   "outputs": [],
   "source": [
    "class Car():\n",
    "    def __init__(self, make, model, color, wheels=4, doors=4, seats=4, miles=5):\n",
    "        self.make = make\n",
    "        self.model = model\n",
    "        self.color = color\n",
    "        self.wheels = wheels\n",
    "        self.doors = doors\n",
    "        self.seats = seats\n",
    "        self.miles = miles\n",
    "    \n",
    "    # Creating a new method\n",
    "    def print_info(self):\n",
    "        print(f'Your {self.color} {self.make} {self.model} has {self.doors} doors, {self.seats} seats, and {self.wheels} wheels.')\n",
    "        \n",
    "    # Modify an attribute's value through a method\n",
    "    def paint(self, new_color):\n",
    "        print(f'Your car was painted {new_color}.')\n",
    "        self.color = new_color\n",
    "    \n",
    "    # Incrementing an attribute's value through a method\n",
    "    def drive(self, miles_driven):\n",
    "        print('VROOM VROOM 🚗🚗')\n",
    "        self.miles += miles_driven"
   ]
  },
  {
   "cell_type": "code",
   "execution_count": 67,
   "metadata": {},
   "outputs": [],
   "source": [
    "car1 = Car('Honda', 'Civic', 'Red', doors=2)\n",
    "car2 = Car('Reliant', 'Robin', 'Blue', 3, 2)"
   ]
  },
  {
   "cell_type": "markdown",
   "metadata": {},
   "source": [
    "##### Calling"
   ]
  },
  {
   "cell_type": "code",
   "execution_count": 53,
   "metadata": {},
   "outputs": [
    {
     "name": "stdout",
     "output_type": "stream",
     "text": [
      "Your Red Honda Civic has 2 doors, 4 seats, and 4 wheels.\n",
      "Your Blue Reliant Robin has 2 doors, 4 seats, and 3 wheels.\n"
     ]
    }
   ],
   "source": [
    "# See Above\n",
    "car1.print_info()\n",
    "car2.print_info()"
   ]
  },
  {
   "cell_type": "markdown",
   "metadata": {},
   "source": [
    "##### Modifying an Attribute's Value Through a Method"
   ]
  },
  {
   "cell_type": "code",
   "execution_count": 54,
   "metadata": {},
   "outputs": [
    {
     "name": "stdout",
     "output_type": "stream",
     "text": [
      "Your car was painted White.\n"
     ]
    }
   ],
   "source": [
    "car1.paint(\"White\")"
   ]
  },
  {
   "cell_type": "code",
   "execution_count": 55,
   "metadata": {},
   "outputs": [
    {
     "data": {
      "text/plain": [
       "'White'"
      ]
     },
     "execution_count": 55,
     "metadata": {},
     "output_type": "execute_result"
    }
   ],
   "source": [
    "car1.color"
   ]
  },
  {
   "cell_type": "markdown",
   "metadata": {},
   "source": [
    "##### Incrementing an Attribute's Value Through a Method"
   ]
  },
  {
   "cell_type": "code",
   "execution_count": 74,
   "metadata": {},
   "outputs": [
    {
     "data": {
      "text/plain": [
       "35"
      ]
     },
     "execution_count": 74,
     "metadata": {},
     "output_type": "execute_result"
    }
   ],
   "source": [
    "car1.miles"
   ]
  },
  {
   "cell_type": "code",
   "execution_count": 72,
   "metadata": {},
   "outputs": [
    {
     "name": "stdout",
     "output_type": "stream",
     "text": [
      "VROOM VROOM 🚗🚗\n"
     ]
    }
   ],
   "source": [
    "car1.drive(10)"
   ]
  },
  {
   "cell_type": "markdown",
   "metadata": {},
   "source": [
    "##### In-Class Exercise #3 - Add a method that takes in three parameters of year, doors and seats and prints out a formatted print statement with make, model, year, seats, and doors"
   ]
  },
  {
   "cell_type": "code",
   "execution_count": 77,
   "metadata": {},
   "outputs": [],
   "source": [
    "# Create class with 2 paramters inside of the __init__ which are make and model\n",
    "\n",
    "# Inside of the Car class create a method that has 4 parameter in total (self,year,door,seats)\n",
    "\n",
    "# Output: This car is from 2019 and is a Ford Expolorer and has 4 doors and 5 seats\n",
    "\n",
    "class Car():\n",
    "    def __init__(self, make, model):\n",
    "        self.make = make\n",
    "        self.model = model\n",
    "    \n",
    "    def print_info(self, year, doors, seats):\n",
    "        print(f'This car is from {year} and is a {self.make} {self.model} and has {doors} doors and {seats} seats')"
   ]
  },
  {
   "cell_type": "code",
   "execution_count": 78,
   "metadata": {},
   "outputs": [
    {
     "name": "stdout",
     "output_type": "stream",
     "text": [
      "This car is from 2018 and is a Honda CRV and has 4 doors and 5 seats\n"
     ]
    }
   ],
   "source": [
    "my_car = Car(\"Honda\", \"CRV\")\n",
    "my_car.print_info(2018, 4, 5)"
   ]
  },
  {
   "cell_type": "markdown",
   "metadata": {},
   "source": [
    "## Inheritance <br>\n",
    "<p>You can create a child-parent relationship between two classes by using inheritance. What this allows you to do is have overriding methods, but also inherit traits from the parent class. Think of it as an actual parent and child, the child will inherit the parent's genes, as will the classes in OOP</p>"
   ]
  },
  {
   "cell_type": "markdown",
   "metadata": {},
   "source": [
    "##### Syntax for Inheriting from a Parent Class"
   ]
  },
  {
   "cell_type": "code",
   "execution_count": null,
   "metadata": {},
   "outputs": [],
   "source": []
  },
  {
   "cell_type": "markdown",
   "metadata": {},
   "source": [
    "##### The \\__init\\__() Method for a Child Class - super()"
   ]
  },
  {
   "cell_type": "code",
   "execution_count": null,
   "metadata": {
    "scrolled": true
   },
   "outputs": [],
   "source": []
  },
  {
   "cell_type": "markdown",
   "metadata": {},
   "source": [
    "##### Defining Attributes and Methods for the Child Class"
   ]
  },
  {
   "cell_type": "code",
   "execution_count": null,
   "metadata": {},
   "outputs": [],
   "source": [
    "# See Above"
   ]
  },
  {
   "cell_type": "markdown",
   "metadata": {},
   "source": [
    "##### Method Overriding"
   ]
  },
  {
   "cell_type": "code",
   "execution_count": null,
   "metadata": {},
   "outputs": [],
   "source": [
    "# See Above"
   ]
  },
  {
   "cell_type": "markdown",
   "metadata": {},
   "source": [
    "## Classes as Attributes <br>\n",
    "<p>Classes can also be used as attributes within another class. This is useful in situations where you need to keep variables locally stored, instead of globally stored.</p>"
   ]
  },
  {
   "cell_type": "code",
   "execution_count": 80,
   "metadata": {},
   "outputs": [],
   "source": [
    "class Person:\n",
    "    def __init__(self, name):\n",
    "        self.name = name\n",
    "    \n",
    "class Pet:\n",
    "    def __init__(self, name, owner):\n",
    "        self.name = name\n",
    "        self.owner = owner"
   ]
  },
  {
   "cell_type": "code",
   "execution_count": 81,
   "metadata": {},
   "outputs": [],
   "source": [
    "me = Person('John')\n",
    "dylan = Person('Dylan')\n",
    "\n",
    "marvin = Pet('Miss Marvin', me)\n",
    "imaginary = Pet('Imaginary', dylan)"
   ]
  },
  {
   "cell_type": "code",
   "execution_count": 83,
   "metadata": {},
   "outputs": [
    {
     "data": {
      "text/plain": [
       "'John'"
      ]
     },
     "execution_count": 83,
     "metadata": {},
     "output_type": "execute_result"
    }
   ],
   "source": [
    "marvin.owner.name"
   ]
  },
  {
   "cell_type": "code",
   "execution_count": null,
   "metadata": {},
   "outputs": [],
   "source": [
    "from IPython.display import clear_output\n",
    "\n",
    "# step 2\n",
    "address_book = {}\n",
    "\n",
    "# step 1\n",
    "def store_user_info(name, address):\n",
    "    address_book[name] = address\n",
    "    \n",
    "def main():\n",
    "    # step 3\n",
    "    while True:\n",
    "        clear_output()\n",
    "        # step 4\n",
    "        name = input(\"Person's Name: \")\n",
    "        address = input(\"Person's Address: \")\n",
    "        \n",
    "        # step 6\n",
    "        store_user_info(name, address)\n",
    "        \n",
    "        cont = input(\"Would you like to continue (y/n)? \")\n",
    "        \n",
    "        # step 5\n",
    "        if cont == 'n':\n",
    "            # step 5b\n",
    "            break\n",
    "            \n",
    "    # step 5a\n",
    "    print(address_book)\n",
    "    \n",
    "# step 7\n",
    "main()"
   ]
  },
  {
   "cell_type": "code",
   "execution_count": 88,
   "metadata": {},
   "outputs": [
    {
     "name": "stdout",
     "output_type": "stream",
     "text": [
      "Person's Name: John\n",
      "Person's Address: 123 Main St\n"
     ]
    },
    {
     "ename": "NameError",
     "evalue": "name 'name' is not defined",
     "output_type": "error",
     "traceback": [
      "\u001b[1;31m---------------------------------------------------------------------------\u001b[0m",
      "\u001b[1;31mNameError\u001b[0m                                 Traceback (most recent call last)",
      "Cell \u001b[1;32mIn [88], line 29\u001b[0m\n\u001b[0;32m     25\u001b[0m             \u001b[38;5;28;01mbreak\u001b[39;00m\n\u001b[0;32m     27\u001b[0m     \u001b[38;5;28mprint\u001b[39m(address_book)\n\u001b[1;32m---> 29\u001b[0m \u001b[43mmain\u001b[49m\u001b[43m(\u001b[49m\u001b[43m)\u001b[49m\n",
      "Cell \u001b[1;32mIn [88], line 20\u001b[0m, in \u001b[0;36mmain\u001b[1;34m()\u001b[0m\n\u001b[0;32m     17\u001b[0m Person(\u001b[38;5;28minput\u001b[39m(\u001b[38;5;124m\"\u001b[39m\u001b[38;5;124mPerson\u001b[39m\u001b[38;5;124m'\u001b[39m\u001b[38;5;124ms Name: \u001b[39m\u001b[38;5;124m\"\u001b[39m))\n\u001b[0;32m     18\u001b[0m AddressBook(\u001b[38;5;28minput\u001b[39m(\u001b[38;5;124m\"\u001b[39m\u001b[38;5;124mPerson\u001b[39m\u001b[38;5;124m'\u001b[39m\u001b[38;5;124ms Address: \u001b[39m\u001b[38;5;124m\"\u001b[39m))\n\u001b[1;32m---> 20\u001b[0m store_user_info(\u001b[43mname\u001b[49m, address)\n\u001b[0;32m     22\u001b[0m cont \u001b[38;5;241m=\u001b[39m \u001b[38;5;28minput\u001b[39m(\u001b[38;5;124m\"\u001b[39m\u001b[38;5;124mWould you like to continue (y/n)? \u001b[39m\u001b[38;5;124m\"\u001b[39m)\n\u001b[0;32m     24\u001b[0m \u001b[38;5;28;01mif\u001b[39;00m cont \u001b[38;5;241m==\u001b[39m \u001b[38;5;124m'\u001b[39m\u001b[38;5;124mn\u001b[39m\u001b[38;5;124m'\u001b[39m:\n",
      "\u001b[1;31mNameError\u001b[0m: name 'name' is not defined"
     ]
    }
   ],
   "source": [
    "address_book = {}\n",
    "\n",
    "class AddressBook:\n",
    "    def __init__(self, address):\n",
    "        self.address = address\n",
    "        address_book[]\n",
    "\n",
    "class Person:\n",
    "    def __init__(self, name):\n",
    "        self.name = name\n",
    "        address_book[]\n",
    "        \n",
    "# def store_user_info(name, address):\n",
    "#     address_book[name] = address\n",
    "\n",
    "def main():\n",
    "    while True:\n",
    "#         clear_output()\n",
    "        Person(input(\"Person's Name: \"))\n",
    "        AddressBook(input(\"Person's Address: \"))\n",
    "        \n",
    "#         store_user_info(name, address)\n",
    "\n",
    "        \n",
    "        cont = input(\"Would you like to continue (y/n)? \")\n",
    "        \n",
    "        if cont == 'n':\n",
    "            break\n",
    "            \n",
    "    print(address_book)\n",
    "\n",
    "main()"
   ]
  },
  {
   "cell_type": "code",
   "execution_count": 100,
   "metadata": {},
   "outputs": [
    {
     "name": "stdout",
     "output_type": "stream",
     "text": [
      "Person's Name: john\n",
      "Person's Address: 123 main st\n",
      "Person's Phone Number: 1231231234\n",
      "Person's Email: sdflsadrf@gmail.com\n",
      "john was added to your contacts.\n",
      "Would you like to continue (y/n)? n\n",
      "[<__main__.Person object at 0x000001D3689B92A0>]\n",
      "<class '__main__.AddressBook'>\n"
     ]
    }
   ],
   "source": [
    "class AddressBook:\n",
    "    def __init__(self):\n",
    "        self.contacts = []\n",
    "\n",
    "    def add_contact(self, new_contact):\n",
    "        print(f'{new_contact.name} was added to your contacts.')\n",
    "        self.contacts.append(new_contact)\n",
    "    \n",
    "    # delete_contacts\n",
    "    # show_contacts\n",
    "    \n",
    "class Person:\n",
    "    def __init__(self, name, address, phone_number, email):\n",
    "        self.name = name\n",
    "        self.address = address\n",
    "        self.phone_number = phone_number\n",
    "        self.email = email\n",
    "\n",
    "def main():\n",
    "    address_book = AddressBook()\n",
    "    \n",
    "    while True:\n",
    "        # clear_output()\n",
    "        name = input(\"Person's Name: \")\n",
    "        address = input(\"Person's Address: \")\n",
    "        phone_number = input(\"Person's Phone Number: \")\n",
    "        email = input(\"Person's Email: \")\n",
    "        \n",
    "        new_contact = Person(name, address, phone_number, email)\n",
    "        address_book.add_contact(new_contact)\n",
    "        \n",
    "        cont = input(\"Would you like to continue (y/n)? \")\n",
    "        \n",
    "        if cont == 'n':\n",
    "            break\n",
    "            \n",
    "    print(address_book.contacts)\n",
    "    print(type(address_book))\n",
    "    \n",
    "\n",
    "main()"
   ]
  },
  {
   "cell_type": "markdown",
   "metadata": {},
   "source": [
    "# Exercises"
   ]
  },
  {
   "cell_type": "markdown",
   "metadata": {},
   "source": [
    "### Exercise 1 - Turn the shopping cart program from yesterday into an object-oriented program\n",
    "\n",
    "The comments in the cell below are there as a guide for thinking about the problem. However, if you feel a different way is best for you and your own thought process, please do what feels best for you by all means."
   ]
  },
  {
   "cell_type": "code",
   "execution_count": 1,
   "metadata": {},
   "outputs": [
    {
     "name": "stdout",
     "output_type": "stream",
     "text": [
      "What do you want to do? (Show/Add/Delete/Quit)add\n",
      "Product Name: banana\n",
      "Product Quantity: 4\n",
      "Product Price: 0.50\n",
      "Banana added to cart successfully\n",
      "What do you want to do? (Show/Add/Delete/Quit)add\n",
      "Product Name: strawberry\n",
      "Product Quantity: 10\n",
      "Product Price: 0.60\n",
      "Strawberry added to cart successfully\n",
      "What do you want to do? (Show/Add/Delete/Quit)can i get a mcdouble please?\n",
      "\"can i get a mcdouble please?\" is not a valid option, please try again.\n",
      "What do you want to do? (Show/Add/Delete/Quit)add\n",
      "Product Name: durian\n",
      "Product Quantity: 2\n",
      "Product Price: 1.5\n",
      "Durian added to cart successfully\n",
      "What do you want to do? (Show/Add/Delete/Quit)add\n",
      "Product Name: bread\n",
      "Product Quantity: 1\n",
      "Product Price: 3.5\n",
      "Bread added to cart successfully\n",
      "What do you want to do? (Show/Add/Delete/Quit)show\n",
      "=~=~=~=~=~=~=~=~=~=~=~=~=~=~=~=~=~=~=~=~=~=~=~=~=~\n",
      "Banana x4 $2.00\n",
      "Strawberry x10 $6.00\n",
      "Durian x2 $3.00\n",
      "Bread x1 $3.50\n",
      "Total: $14.50\n",
      "=~=~=~=~=~=~=~=~=~=~=~=~=~=~=~=~=~=~=~=~=~=~=~=~=~\n",
      "What do you want to do? (Show/Add/Delete/Quit)delete\n",
      "Product to delete: durian\n",
      "What do you want to do? (Show/Add/Delete/Quit)show\n",
      "=~=~=~=~=~=~=~=~=~=~=~=~=~=~=~=~=~=~=~=~=~=~=~=~=~\n",
      "Banana x4 $2.00\n",
      "Strawberry x10 $6.00\n",
      "Bread x1 $3.50\n",
      "Total: $11.50\n",
      "=~=~=~=~=~=~=~=~=~=~=~=~=~=~=~=~=~=~=~=~=~=~=~=~=~\n",
      "What do you want to do? (Show/Add/Delete/Quit)add\n",
      "Product Name: durian\n",
      "Product Quantity: 1\n",
      "Product Price: 1.50\n",
      "Durian added to cart successfully\n",
      "What do you want to do? (Show/Add/Delete/Quit)quit\n",
      "Thank you for shopping.\n",
      "=~=~=~=~=~=~=~=~=~=~=~=~=~=~=~=~=~=~=~=~=~=~=~=~=~\n",
      "Banana x4 $2.00\n",
      "Strawberry x10 $6.00\n",
      "Bread x1 $3.50\n",
      "Durian x1 $1.50\n",
      "Total: $13.00\n",
      "=~=~=~=~=~=~=~=~=~=~=~=~=~=~=~=~=~=~=~=~=~=~=~=~=~\n"
     ]
    }
   ],
   "source": [
    "# Create a class called cart that retains items and has methods to add, remove, and show\n",
    "\n",
    "text = {\n",
    "    'add_error': \"{name} is already in your cart. Would you like to update the existing quantity? (y/n)\",\n",
    "    'add_cancel': \"Okay, cancelled adding item.\",\n",
    "    'add_success': \"{name} added to cart successfully\",\n",
    "    'add_name': 'Product Name: ',\n",
    "    'add_quantity': 'Product Quantity: ',\n",
    "    'add_price': 'Product Price: ',\n",
    "    'invalid_selection': 'Invalid selection, please try again.',\n",
    "    'delete_error': \"Delete unsuccessful. Perhaps {name} is not currently in your shopping cart.\",\n",
    "    'delete_name': \"Product to delete: \",\n",
    "    'cart_divider': '=~' * 25,\n",
    "    'item_line': \"{key} x{quantity} ${item_total:.2f}\",\n",
    "    'total_line': \"Total: ${total:.2f}\",\n",
    "    'main_prompt': 'What do you want to do? (Show/Add/Delete/Quit)',\n",
    "    'main_error': '\"{choice}\" is not a valid option, please try again.',\n",
    "    'quit_message': 'Thank you for shopping.'\n",
    "}\n",
    "\n",
    "options = {\n",
    "    'show_options': ['show', 'cart', 'show cart', 's', 'sh'],\n",
    "    'add_options': ['add', 'add to cart', 'add cart', 'a', 'ad', '+', 'more'],\n",
    "    'delete_options': ['delete', 'remove', 'delete from cart', 'remove from cart', 'd', 'del', 'de', 'r', 're', 'rem'],\n",
    "    'quit_options': ['quit', 'done', 'checkout', 'check-out', 'q', 'qu']\n",
    "}\n",
    "\n",
    "\n",
    "class Cart():\n",
    "    def __init__(self):\n",
    "        self.items = {}\n",
    "    \n",
    "    def show(self):\n",
    "        print(text['cart_divider'])\n",
    "        total = 0\n",
    "        for key, val in self.items.items():\n",
    "            item_total = val['quantity'] * val['price']\n",
    "            total += item_total\n",
    "            print(text['item_line'].format(key=key.title(), quantity=val['quantity'], item_total=item_total))\n",
    "\n",
    "        print(text['total_line'].format(total=total))    \n",
    "\n",
    "        print(text['cart_divider'])\n",
    "\n",
    "    def add(self, new_item):\n",
    "        if new_item.name in self.items:\n",
    "            while True:\n",
    "                choice = input(text['add_error'].format(new_item.name)).lower()\n",
    "\n",
    "                if choice == 'y':\n",
    "                    self.items[new_item.name]['quantity'] += new_item.quantity\n",
    "                    break\n",
    "                elif choice == 'n':\n",
    "                    print(text['add_cancel'])\n",
    "                    break\n",
    "                else:\n",
    "                    print(text['invalid_selection'])\n",
    "        else: \n",
    "            self.items[new_item.name] = {\n",
    "                'quantity': new_item.quantity,\n",
    "                'price': new_item.price\n",
    "            }\n",
    "            print(text['add_success'].format(name=new_item.name.title()))\n",
    "\n",
    "    def delete(self, name):\n",
    "        if name in self.items:\n",
    "            del self.items[name]\n",
    "        else:\n",
    "            print(text['delete_error'].format(name))\n",
    "            \n",
    "class Item():\n",
    "    def __init__(self, name, quantity, price):\n",
    "        self.name = name\n",
    "        self.quantity = quantity\n",
    "        self.price = price\n",
    "    \n",
    "\n",
    "def shopping():\n",
    "    shopping_cart = Cart()\n",
    "     \n",
    "    application_running = True\n",
    "    while application_running:\n",
    "        choice = input(text['main_prompt']).lower()\n",
    "        \n",
    "        if choice in options['show_options']:\n",
    "            shopping_cart.show()\n",
    "        elif choice in options['add_options']:\n",
    "            name = input(text['add_name']).lower()\n",
    "            quantity = int(input(text['add_quantity']))\n",
    "            price = float(input(text['add_price']))\n",
    "            \n",
    "            new_item = Item(name, quantity, price)\n",
    "            shopping_cart.add(new_item)\n",
    "            \n",
    "        elif choice in options['delete_options']:\n",
    "            name = input(text['delete_name']).lower()\n",
    "            \n",
    "            shopping_cart.delete(name)\n",
    "            \n",
    "        elif choice in options['quit_options']:\n",
    "            print(text['quit_message'])\n",
    "            shopping_cart.show()\n",
    "            application_running = False\n",
    "\n",
    "        else:\n",
    "            print(text['main_error'].format(choice=choice))\n",
    "        \n",
    "shopping()"
   ]
  },
  {
   "cell_type": "markdown",
   "metadata": {},
   "source": [
    "### Exercise 2 - Write a Python class which has two methods get_String and print_String. get_String accept a string from the user and print_String print the string in upper case"
   ]
  },
  {
   "cell_type": "code",
   "execution_count": 1,
   "metadata": {},
   "outputs": [],
   "source": [
    "class Parrot:\n",
    "    phrase = ''\n",
    "    \n",
    "    def get_string(self):\n",
    "        self.phrase = input('What would you like to say? ')\n",
    "        \n",
    "    def print_string(self):\n",
    "        print(self.phrase)\n",
    "        \n",
    "iago = Parrot()"
   ]
  },
  {
   "cell_type": "code",
   "execution_count": 2,
   "metadata": {},
   "outputs": [
    {
     "name": "stdout",
     "output_type": "stream",
     "text": [
      "What would you like to say? Mic test 1 2 3\n"
     ]
    }
   ],
   "source": [
    "iago.get_string()"
   ]
  },
  {
   "cell_type": "code",
   "execution_count": 3,
   "metadata": {},
   "outputs": [
    {
     "name": "stdout",
     "output_type": "stream",
     "text": [
      "Mic test 1 2 3\n"
     ]
    }
   ],
   "source": [
    "iago.print_string()"
   ]
  },
  {
   "cell_type": "code",
   "execution_count": null,
   "metadata": {},
   "outputs": [],
   "source": []
  }
 ],
 "metadata": {
  "kernelspec": {
   "display_name": "Python 3 (ipykernel)",
   "language": "python",
   "name": "python3"
  },
  "language_info": {
   "codemirror_mode": {
    "name": "ipython",
    "version": 3
   },
   "file_extension": ".py",
   "mimetype": "text/x-python",
   "name": "python",
   "nbconvert_exporter": "python",
   "pygments_lexer": "ipython3",
   "version": "3.10.8"
  }
 },
 "nbformat": 4,
 "nbformat_minor": 2
}
